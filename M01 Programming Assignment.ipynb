{
 "cells": [
  {
   "cell_type": "code",
   "execution_count": 5,
   "id": "a217ed21",
   "metadata": {},
   "outputs": [
    {
     "name": "stdout",
     "output_type": "stream",
     "text": [
      "Number of seconds in an hour: 3600\n"
     ]
    }
   ],
   "source": [
    "seconds = 60\n",
    "minutes = 60\n",
    "hour = seconds * minutes\n",
    "\n",
    "print(\"Number of seconds in an hour:\", hour)"
   ]
  },
  {
   "cell_type": "code",
   "execution_count": 6,
   "id": "9457497c",
   "metadata": {},
   "outputs": [
    {
     "name": "stdout",
     "output_type": "stream",
     "text": [
      "Number of seconds in an hour: 3600\n"
     ]
    }
   ],
   "source": [
    "seconds = 60\n",
    "minutes = 60\n",
    "seconds_per_hour = seconds * minutes\n",
    "\n",
    "print(\"Number of seconds in an hour:\", seconds_per_hour)\n"
   ]
  },
  {
   "cell_type": "code",
   "execution_count": 7,
   "id": "0e378512",
   "metadata": {},
   "outputs": [
    {
     "name": "stdout",
     "output_type": "stream",
     "text": [
      "Number of seconds in a day: 86400\n"
     ]
    }
   ],
   "source": [
    "seconds_per_hour = 3600\n",
    "hours_in_day = 24\n",
    "day = seconds_per_hour * hours_in_day\n",
    "\n",
    "print(\"Number of seconds in a day:\", day)"
   ]
  },
  {
   "cell_type": "code",
   "execution_count": 8,
   "id": "2d2719c0",
   "metadata": {},
   "outputs": [
    {
     "name": "stdout",
     "output_type": "stream",
     "text": [
      "Number of seconds in a day: 86400\n"
     ]
    }
   ],
   "source": [
    "seconds_per_hour = 3600\n",
    "hours_in_day = 24\n",
    "seconds_per_day = seconds_per_hour * hours_in_day\n",
    "\n",
    "print(\"Number of seconds in a day:\", seconds_per_day)"
   ]
  },
  {
   "cell_type": "code",
   "execution_count": 9,
   "id": "4fe10f65",
   "metadata": {},
   "outputs": [
    {
     "name": "stdout",
     "output_type": "stream",
     "text": [
      "Result: 24.0\n"
     ]
    }
   ],
   "source": [
    "seconds_per_hour = 3600\n",
    "seconds_per_day = 86400\n",
    "divide = seconds_per_day / seconds_per_hour\n",
    "\n",
    "print(\"Result:\", divide)"
   ]
  },
  {
   "cell_type": "code",
   "execution_count": 10,
   "id": "f54f75fe",
   "metadata": {},
   "outputs": [
    {
     "name": "stdout",
     "output_type": "stream",
     "text": [
      "Result: 24\n"
     ]
    }
   ],
   "source": [
    "seconds_per_hour = 3600\n",
    "seconds_per_day = 86400\n",
    "divide = seconds_per_day // seconds_per_hour\n",
    "\n",
    "print(\"Result:\", divide)"
   ]
  },
  {
   "cell_type": "code",
   "execution_count": null,
   "id": "e10c390a",
   "metadata": {},
   "outputs": [],
   "source": [
    "# Yes, same result for both integer and floating point."
   ]
  }
 ],
 "metadata": {
  "kernelspec": {
   "display_name": "Python 3 (ipykernel)",
   "language": "python",
   "name": "python3"
  },
  "language_info": {
   "codemirror_mode": {
    "name": "ipython",
    "version": 3
   },
   "file_extension": ".py",
   "mimetype": "text/x-python",
   "name": "python",
   "nbconvert_exporter": "python",
   "pygments_lexer": "ipython3",
   "version": "3.11.4"
  }
 },
 "nbformat": 4,
 "nbformat_minor": 5
}
